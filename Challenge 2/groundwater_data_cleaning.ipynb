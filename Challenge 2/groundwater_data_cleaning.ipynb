{
 "cells": [
  {
   "cell_type": "code",
   "execution_count": 33,
   "metadata": {
    "collapsed": false,
    "deletable": true,
    "editable": true
   },
   "outputs": [
    {
     "name": "stderr",
     "output_type": "stream",
     "text": [
      "C:\\Anaconda2\\envs\\ana\\lib\\site-packages\\IPython\\core\\interactiveshell.py:2728: DtypeWarning: Columns (7,8,12,13,16,17,18,19,20,24,30,31,32,33,34,35,36,37,38,47,52,70,71,72,74,75) have mixed types. Specify dtype option on import or set low_memory=False.\n",
      "  interactivity=interactivity, compiler=compiler, result=result)\n"
     ]
    }
   ],
   "source": [
    "import pandas as pd\n",
    "import numpy as np\n",
    "\n",
    "pd.options.display.max_columns = 100\n",
    "raw_data = pd.read_csv(\"data/grondwater/ExportDATALAB_feb2018.csv\")\n"
   ]
  },
  {
   "cell_type": "markdown",
   "metadata": {},
   "source": [
    "# Drop irrelevant data"
   ]
  },
  {
   "cell_type": "code",
   "execution_count": 45,
   "metadata": {
    "collapsed": false
   },
   "outputs": [],
   "source": [
    "first_clean = raw_data.drop(columns=[\"Naam\",\"EGV[mS/m]\",\"CH4[µg/L]\",\"Zwevend stof[mg/L]\",\n",
    "               \"UV extinctie[m^-1]\",\"T_veld[°C]\",\"AOX[µg/L]\",\"CZV[µg/L]\",\"Cl[mg/L]\",\"Si[mg/L]\",\"N2[mg/L]\",\"O2[mg/L]\",\n",
    "                      \"F[mg/L]\",\"Br[mg/L]\",\"I[µg/L]\",\"Mn[mg/L]\",\"Ag[µg/L]\",\"As[µg/L]\",\"B[µg/L]\",\"Ba[µg/L]\",\n",
    "                       \"Be[µg/L]\",\"Bi[µg/L]\",\"Cd[µg/L]\",\"Ce[µg/L]\",\"Co[µg/L]\",\"Cr[µg/L]\",\"CrVI[µg/L]\",\"Cu[µg/L]\"])\n",
    "filtered_data = first_clean.drop(columns=[\"Ga[µg/L]\",\"Gd[µg/L]\",\"Hg[µg/L]\",\"In[µg/L]\",\"La[µg/L]\",\"Li[µg/L]\",\n",
    "                                         \"Mo[µg/L]\",\"Nd[µg/L]\",\"Ni[µg/L]\",\"Pb[µg/L]\",\"Pt[µg/L]\",\"Rb[µg/L]\",\"Sb[µg/L]\",\n",
    "                                         \"Se[µg/L]\",\"Sm[µg/L]\",\"Sn[µg/L]\",\"Sr[µg/L]\",\"Te[µg/L]\",\"Th[µg/L]\",\"Ti[µg/L]\",\n",
    "                                         \"Tl[µg/L]\",\"U[µg/L]\",\"V[µg/L]\",\"Zn[µg/L]\"])"
   ]
  },
  {
   "cell_type": "markdown",
   "metadata": {},
   "source": [
    "## Convert date strings to one uniform datetime format\n",
    "\n",
    "## Filter detection limit \"< VALUE\" replaced by VALUE / 2\n",
    "\n",
    "## Filter detection limit \"> VALUE\" dropped from table (replace by np.NaN)\n",
    "\n",
    "## Drop entries before 1980"
   ]
  },
  {
   "cell_type": "code",
   "execution_count": 44,
   "metadata": {
    "collapsed": false
   },
   "outputs": [
    {
     "data": {
      "text/plain": [
       "Datum                      datetime64[ns]\n",
       "X coördinaat (m+NAP)              float64\n",
       "Y coördinaat (m+NAP)              float64\n",
       "Maaiveld hoogte (m+NAP)           float64\n",
       "Bovenkant filter                  float64\n",
       "Onderkant filter                  float64\n",
       "pH[-]                             float64\n",
       "DOC[mg/L]                         float64\n",
       "TOC[mg/L]                         float64\n",
       "TH[mmol/L]                        float64\n",
       "pH_veld[-]                        float64\n",
       "HCO3[mg/L]                        float64\n",
       "NO3[mg/L]                         float64\n",
       "SO4[mg/L]                         float64\n",
       "NH4[mg/L]                         float64\n",
       "CO2[mg/L]                         float64\n",
       "CO3[mg/L]                         float64\n",
       "PO4o[mg/L]                        float64\n",
       "PO4t[mg/L]                        float64\n",
       "S[µg/L]                           float64\n",
       "Na[mg/L]                          float64\n",
       "K[mg/L]                           float64\n",
       "Ca[mg/L]                          float64\n",
       "Mg[mg/L]                          float64\n",
       "Fe[mg/L]                          float64\n",
       "Fe2[µg/L]                         float64\n",
       "dtype: object"
      ]
     },
     "execution_count": 44,
     "metadata": {},
     "output_type": "execute_result"
    }
   ],
   "source": [
    "filtered_data.Datum = pd.to_datetime(filtered_data.Datum, infer_datetime_format=True)\n",
    "\n",
    "def filter_symbols(x):\n",
    "    if type(x) != str:\n",
    "        return x\n",
    "    else:        \n",
    "        if x[0] == '<':\n",
    "            return float(x[1:]) / 2\n",
    "        elif x[0] == '>':\n",
    "            return np.NaN\n",
    "        else:\n",
    "            return float(x)\n",
    "\n",
    "cleaned_data = filtered_data.applymap(filter_symbols)\n",
    "cleaned_data = cleaned_data[cleaned_data.Datum > \"1980-01-01\"]\n",
    "display(cleaned_data.dtypes)\n",
    "\n",
    "nitrogen_data = cleaned_data['Datum','X coördinaat (m+NAP)','Y coördinaat (m+NAP)','Y coördinaat (m+NAP)','Bovenkant filter',\n",
    "                            'Onderkant filter',\"pH[-]\", \"NO3[mg/L]\", \"NH4[mg/L]\"]"
   ]
  },
  {
   "cell_type": "markdown",
   "metadata": {},
   "source": [
    "# Coordinate systems are the same\n",
    "\n",
    "- The coordinate system of the regional data is: Amersfoort EPSG: 28992\n",
    "- The coordinate system of the Vitens data (Datalab) is: rijksdriehoek rd_new 28992"
   ]
  }
 ],
 "metadata": {
  "kernelspec": {
   "display_name": "Python [ana]",
   "language": "python",
   "name": "Python [ana]"
  },
  "language_info": {
   "codemirror_mode": {
    "name": "ipython",
    "version": 3
   },
   "file_extension": ".py",
   "mimetype": "text/x-python",
   "name": "python",
   "nbconvert_exporter": "python",
   "pygments_lexer": "ipython3",
   "version": "3.6.3"
  }
 },
 "nbformat": 4,
 "nbformat_minor": 2
}
